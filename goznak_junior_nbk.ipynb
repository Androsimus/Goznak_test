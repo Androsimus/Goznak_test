{
 "cells": [
  {
   "cell_type": "code",
   "execution_count": 1,
   "metadata": {},
   "outputs": [],
   "source": [
    "import os\n",
    "import random\n",
    "import numpy as np\n",
    "import pandas as pd\n",
    "import matplotlib.pyplot as plt\n",
    "import seaborn as sns\n",
    "import gc\n",
    "import time\n",
    "import torch\n",
    "import torch.nn as nn\n",
    "import torch.optim as optim\n",
    "import torch.nn.functional as F\n",
    "from torch.utils.data import Dataset, DataLoader\n"
   ]
  },
  {
   "cell_type": "markdown",
   "metadata": {},
   "source": [
    "### Cuda device checking"
   ]
  },
  {
   "cell_type": "code",
   "execution_count": 2,
   "metadata": {},
   "outputs": [
    {
     "name": "stdout",
     "output_type": "stream",
     "text": [
      "Your device is \"cuda:0\"\n"
     ]
    }
   ],
   "source": [
    "device = ''\n",
    "if torch.cuda.is_available():  \n",
    "    device = \"cuda:0\" \n",
    "else:  \n",
    "    device = \"cpu\"\n",
    "print(f'Your device is \"{device}\"')"
   ]
  },
  {
   "cell_type": "markdown",
   "metadata": {},
   "source": [
    "### Settings for reproducibility "
   ]
  },
  {
   "cell_type": "code",
   "execution_count": 3,
   "metadata": {},
   "outputs": [
    {
     "data": {
      "text/plain": [
       "<torch._C.Generator at 0x217f9aed490>"
      ]
     },
     "execution_count": 3,
     "metadata": {},
     "output_type": "execute_result"
    }
   ],
   "source": [
    "np.random.seed(17)\n",
    "torch.manual_seed(13)"
   ]
  },
  {
   "cell_type": "markdown",
   "metadata": {},
   "source": [
    "# Data:\n",
    "## Define functions to \n",
    "  - load \n",
    "  - preprocess\n",
    "  - check input data"
   ]
  },
  {
   "cell_type": "code",
   "execution_count": 4,
   "metadata": {
    "scrolled": true
   },
   "outputs": [
    {
     "data": {
      "text/plain": [
       "((875, 80), (80, 875), (840, 80))"
      ]
     },
     "execution_count": 4,
     "metadata": {},
     "output_type": "execute_result"
    }
   ],
   "source": [
    "x1 = np.load(r'data\\train1\\train\\clean\\20\\20_205_20-205-0004.npy')\n",
    "x2 = np.load(r'data\\train1\\train\\clean\\20\\20_205_20-205-0012.npy')\n",
    "x1.shape, x1.T.shape, x2.shape"
   ]
  },
  {
   "cell_type": "markdown",
   "metadata": {},
   "source": [
    "### Form a list of directories which contain train or val samples"
   ]
  },
  {
   "cell_type": "code",
   "execution_count": 5,
   "metadata": {},
   "outputs": [],
   "source": [
    "train1_path, val_path = 'data/train1/train/', 'data/val/val/'"
   ]
  },
  {
   "cell_type": "code",
   "execution_count": 6,
   "metadata": {},
   "outputs": [],
   "source": [
    "def get_clean_data_paths(path: str):\n",
    "    \"\"\"\n",
    "    input: path to train or val dir with 'clean' and 'noise' dirs\n",
    "    output: list of paths to clean data\n",
    "    \"\"\"\n",
    "    clean = 'clean/'\n",
    "    list_clean = []\n",
    "    with os.scandir(path+clean) as entries:\n",
    "        for entry in entries:\n",
    "            if entry.is_dir():\n",
    "                list_clean.append(entry.path)\n",
    "    return sorted(list_clean)\n",
    "\n",
    "def check_data_paths(paths_list, show_cnt = 10):\n",
    "    \"\"\"\n",
    "    outputs number of input list elements and their values\n",
    "    \"\"\"\n",
    "    print(f'input list length = {len(paths_list)}')\n",
    "    for i, elem in enumerate(paths_list):\n",
    "        print(elem)\n",
    "        if i==show_cnt:\n",
    "            break\n",
    "    pass"
   ]
  },
  {
   "cell_type": "code",
   "execution_count": 7,
   "metadata": {
    "scrolled": true
   },
   "outputs": [
    {
     "name": "stdout",
     "output_type": "stream",
     "text": [
      "input list length = 799\n",
      "data/train1/train/clean/1006\n",
      "data/train1/train/clean/102\n",
      "data/train1/train/clean/104\n",
      "data/train1/train/clean/1049\n",
      "data/train1/train/clean/1051\n",
      "data/train1/train/clean/1065\n",
      "data/train1/train/clean/107\n",
      "data/train1/train/clean/1085\n",
      "data/train1/train/clean/1092\n",
      "data/train1/train/clean/1094\n",
      "data/train1/train/clean/1097\n"
     ]
    }
   ],
   "source": [
    "#self checking and paths observation\n",
    "tr_clean_paths_list = get_clean_data_paths(train1_path)\n",
    "check_data_paths(tr_clean_paths_list)"
   ]
  },
  {
   "cell_type": "code",
   "execution_count": 8,
   "metadata": {},
   "outputs": [
    {
     "name": "stdout",
     "output_type": "stream",
     "text": [
      "input list length = 150\n",
      "data/val/val/clean/1084\n",
      "data/val/val/clean/1110\n",
      "data/val/val/clean/1152\n",
      "data/val/val/clean/1154\n",
      "data/val/val/clean/1166\n",
      "data/val/val/clean/1421\n",
      "data/val/val/clean/149\n",
      "data/val/val/clean/1572\n",
      "data/val/val/clean/1593\n",
      "data/val/val/clean/1680\n",
      "data/val/val/clean/1685\n"
     ]
    }
   ],
   "source": [
    "#self checking and paths observation\n",
    "val_clean_paths_list = get_clean_data_paths(val_path)\n",
    "check_data_paths(val_clean_paths_list)"
   ]
  },
  {
   "cell_type": "markdown",
   "metadata": {},
   "source": [
    "### Load, transpose and check data"
   ]
  },
  {
   "cell_type": "code",
   "execution_count": 9,
   "metadata": {},
   "outputs": [],
   "source": [
    "def get_data_from_clean_data_paths(clean_data_paths: list):\n",
    "    \"\"\"\n",
    "    Loading numpy arrays situated on input list paths.\n",
    "    input: paths to clean data\n",
    "    output: loaded clean and noisy data to lists of np.ndarrays    \n",
    "    \"\"\"\n",
    "    clean_data_list = []\n",
    "    noisy_data_list = []\n",
    "\n",
    "    #scans every dir path\n",
    "    for path in clean_data_paths:\n",
    "        #scans every file in current dir\n",
    "        with os.scandir(path) as entries:\n",
    "            for entry in entries:\n",
    "                if entry.is_file():\n",
    "                    clean_path = entry.path\n",
    "                    noisy_path = entry.path.replace('clean', 'noisy',1)\n",
    "\n",
    "                    clean_data_list.append(np.load(clean_path).T)\n",
    "                    noisy_data_list.append(np.load(noisy_path).T)\n",
    "    return clean_data_list, noisy_data_list\n",
    "\n",
    "def check_loaded_data(data1_list, data2_list, check_part=0.1, check_shapes=True, print_shapes=False, check_data=False):\n",
    "    \"\"\"\n",
    "    Help checking loaded data: if data from 2 lists has same shape and doesn't contain nans, zeros only and so on\n",
    "    \"\"\"\n",
    "    \n",
    "    cnt2check = int(max(1, len(data1_list)*check_part))\n",
    "    samples2check = np.random.choice(range(len(data1_list)), cnt2check, replace=False)\n",
    "    \n",
    "    different_shape = False\n",
    "    for index in samples2check:\n",
    "        if data1_list[index].shape != data2_list[index].shape:\n",
    "            different_shape = True\n",
    "            print(f'Difference in shape is detected!'\n",
    "                 f'\\t{data1_list[index].shape} vs {data2_list[index].shape}')\n",
    "            break\n",
    "        if print_shapes:\n",
    "            print(data1_list[index].shape)\n",
    "    \n",
    "    if check_data:\n",
    "        for index in samples2check:\n",
    "            print(f'mean1 = {np.mean(data1_list[index]):5.3}, std1 = {np.std(data1_list[index]):5.3}\\t'\n",
    "                  f'mean2 = {np.mean(data2_list[index]):5.3}, std2 = {np.std(data2_list[index]):5.3}')\n",
    "        \n",
    "def get_data_statistics(data):\n",
    "    \"\"\"\n",
    "    Prints some data statistics and plots histogram of data lengths\n",
    "    \"\"\"\n",
    "    dataLens = []\n",
    "    for d in data:\n",
    "        dataLens.append(d.shape[1])\n",
    "    dataLens = np.array(dataLens)\n",
    "    maxLen = np.max(dataLens)\n",
    "    minLen = np.min(dataLens)\n",
    "    meanLen = np.mean(dataLens)\n",
    "    stdLen = np.std(dataLens)\n",
    "    print(f'Data length params: min={minLen}, max={maxLen}, mean={meanLen}, std={stdLen}')\n",
    "    plt.figure(figsize=(10,10))\n",
    "    sns.histplot(data=dataLens)"
   ]
  },
  {
   "cell_type": "code",
   "execution_count": 10,
   "metadata": {},
   "outputs": [],
   "source": [
    "#self checking and data observation\n",
    "train_clean_data, train_noisy_data = get_data_from_clean_data_paths(tr_clean_paths_list[:])\n",
    "check_loaded_data(train_clean_data, train_noisy_data, print_shapes=False)"
   ]
  },
  {
   "cell_type": "code",
   "execution_count": 11,
   "metadata": {},
   "outputs": [
    {
     "data": {
      "text/plain": [
       "(12000, (80, 966))"
      ]
     },
     "execution_count": 11,
     "metadata": {},
     "output_type": "execute_result"
    }
   ],
   "source": [
    "len(train_clean_data), train_clean_data[0].shape"
   ]
  },
  {
   "cell_type": "code",
   "execution_count": 12,
   "metadata": {},
   "outputs": [],
   "source": [
    "val_clean_data, val_noisy_data = get_data_from_clean_data_paths(val_clean_paths_list[:])\n",
    "check_loaded_data(val_clean_data, val_noisy_data, print_shapes=False)"
   ]
  },
  {
   "cell_type": "code",
   "execution_count": 13,
   "metadata": {},
   "outputs": [
    {
     "name": "stdout",
     "output_type": "stream",
     "text": [
      "Data length params: min=52, max=1374, mean=758.94225, std=246.37345585162137\n",
      "Data length params: min=113, max=1226, mean=755.392, std=245.4581539407481\n"
     ]
    },
    {
     "data": {
      "image/png": "[encoded data removed]",
      "text/plain": [
       "<Figure size 720x720 with 1 Axes>"
      ]
     },
     "metadata": {
      "needs_background": "light"
     },
     "output_type": "display_data"
    },
    {
     "data": {
      "image/png": "[encoded data removed]",
      "text/plain": [
       "<Figure size 720x720 with 1 Axes>"
      ]
     },
     "metadata": {
      "needs_background": "light"
     },
     "output_type": "display_data"
    }
   ],
   "source": [
    "get_data_statistics(train_clean_data)\n",
    "get_data_statistics(val_clean_data)"
   ]
  },
  {
   "cell_type": "markdown",
   "metadata": {},
   "source": [
    "# Preparing training in PyTorch"
   ]
  },
  {
   "cell_type": "markdown",
   "metadata": {},
   "source": [
    "### Training parameters"
   ]
  },
  {
   "cell_type": "code",
   "execution_count": 14,
   "metadata": {},
   "outputs": [],
   "source": [
    "# batch size for training process\n",
    "train_batch_size = 64\n",
    "# batch size for evaluation process\n",
    "dev_batch_size = 64\n",
    "# part of train data for progress estimation\n",
    "dev_part = 0.1\n",
    "# max number of epochs\n",
    "nEpochs = 100\n",
    "# starting learning rate\n",
    "learning_rate = 0.001"
   ]
  },
  {
   "cell_type": "markdown",
   "metadata": {},
   "source": [
    "### We will use PyTorch functionality for batch construction:\n",
    "  - custom Dataset class to store data with different sizes,\n",
    "  - customized collate_fn to form batches of different shape elements in DataLoader."
   ]
  },
  {
   "cell_type": "code",
   "execution_count": 15,
   "metadata": {},
   "outputs": [],
   "source": [
    "class DetectionDS(Dataset):\n",
    "    \"\"\"\n",
    "    Dataset class.\n",
    "    Maintains\n",
    "        data - clean and noisy data\n",
    "        targets - target values for classification (0 - clean, 1 - noisy)\n",
    "    \"\"\"\n",
    "    def __init__(self, clean, noisy):\n",
    "        #initialize class object\n",
    "        \n",
    "        #concatenate clean and noisy data lists\n",
    "        self.data = clean + noisy\n",
    "        #generate corresponding targets\n",
    "        self.targets = [0 for i in range(len(clean))] + [1 for i in range(len(noisy))]\n",
    "        \n",
    "    def __len__(self):\n",
    "        #standard interface function for Dataset\n",
    "        if self.data != None:\n",
    "            return len(self.data)\n",
    "        \n",
    "    def __getitem__(self, idx):\n",
    "        #standard interface function for Dataset\n",
    "        if torch.is_tensor(idx):\n",
    "            idx = idx.tolist()\n",
    "        sample = [self.data[idx], self.targets[idx]] #{'mel_data': self.data[idx], 'target': self.targets[idx]}\n",
    "        return sample"
   ]
  },
  {
   "cell_type": "code",
   "execution_count": 16,
   "metadata": {},
   "outputs": [],
   "source": [
    "def collate_function(batch):\n",
    "    \"\"\"\n",
    "    A customization of default PyTorch collate_fn function\n",
    "    Forms batch from items of different size:\n",
    "        looks for min item length and then randomly \n",
    "        cuts parts of min length from each item\n",
    "    \"\"\"\n",
    "    #extract data from input batch\n",
    "    data = [item[0] for item in batch]\n",
    "    targets = [item[1] for item in batch]\n",
    "    \n",
    "    min_len = 100000\n",
    "    for elem in data:\n",
    "        min_len = min(min_len, elem.shape[1])\n",
    "    \n",
    "    #slicing data to size of minimum element\n",
    "    data = [random_cut(elem, min_len) for elem in data]\n",
    "    \n",
    "    return [torch.tensor(data).float(), torch.tensor(targets).float()]\n",
    "        \n",
    "    \n",
    "def random_cut(array, slice_len):\n",
    "    \"\"\"\n",
    "    Help function to randomly cut array through slicing\n",
    "    \"\"\"\n",
    "    start_cut_range = array.shape[1] - slice_len\n",
    "    random_start = np.random.randint(0, start_cut_range+1)\n",
    "\n",
    "    return array[:, random_start: random_start+slice_len]    "
   ]
  },
  {
   "cell_type": "code",
   "execution_count": 17,
   "metadata": {},
   "outputs": [],
   "source": [
    "def coherent_list_shuffle(list1, list2):\n",
    "    \"\"\"\n",
    "    Shuffles 2 lists of the same length in coherent manner\n",
    "    and returns them.\n",
    "    It will help us to form random split train data to train and dev datasets\n",
    "    \"\"\"\n",
    "    if len(list1) != len(list2):\n",
    "        print('Error! Lengths of list1 and list2 must be the same!')\n",
    "        return -1\n",
    "    new_order = list(range(len(list1)))\n",
    "    random.shuffle(new_order)\n",
    "    new_list1 = [list1[new_order[i]] for i in new_order]\n",
    "    new_list2 = [list2[new_order[i]] for i in new_order]\n",
    "   \n",
    "    return new_list1, new_list2\n",
    "\n",
    "# l1 = list(range(10))\n",
    "# l2 = list(range(10))\n",
    "# l11,l22 = coherent_list_shuffle(l1, l2)\n",
    "# print(f'{l11}\\n{l22}')"
   ]
  },
  {
   "cell_type": "code",
   "execution_count": 18,
   "metadata": {},
   "outputs": [],
   "source": [
    "def get_DataLoader(clean_data_list, noisy_data_list, batch_size):\n",
    "    \"\"\"\n",
    "    Returns dataloaders for further training and evaluating\n",
    "    Input:\n",
    "        clean_data_list - list of numpy arrays with clean data\n",
    "        noisy_data_list - list of numpy arrays with noisy data\n",
    "        batch_size - defines batch size\n",
    "    \"\"\"\n",
    "    dataset = DetectionDS(clean_data_list, noisy_data_list)\n",
    "    dataloader = DataLoader(dataset, batch_size=batch_size, shuffle=True, \n",
    "                            collate_fn=collate_function, pin_memory=True)\n",
    "    return dataloader"
   ]
  },
  {
   "cell_type": "code",
   "execution_count": 19,
   "metadata": {},
   "outputs": [],
   "source": [
    "train_clean_data, train_noisy_data = coherent_list_shuffle(train_clean_data, train_noisy_data)"
   ]
  },
  {
   "cell_type": "code",
   "execution_count": 20,
   "metadata": {},
   "outputs": [],
   "source": [
    "dev_data_length = int(len(train_clean_data)*dev_part)\n",
    "train_data_length = len(train_clean_data) - dev_data_length\n",
    "\n",
    "train_dataloader = get_DataLoader(train_clean_data[:train_data_length], \n",
    "                                  train_noisy_data[:train_data_length],\n",
    "                                  train_batch_size)\n",
    "dev_dataloader = get_DataLoader(train_clean_data[train_data_length:], \n",
    "                                train_noisy_data[train_data_length:],\n",
    "                                dev_batch_size)"
   ]
  },
  {
   "cell_type": "markdown",
   "metadata": {},
   "source": [
    "### Model definition\n",
    "For noise classification problem we will use 10-convlayer VGG-like CNN with BatchNorm layers."
   ]
  },
  {
   "cell_type": "code",
   "execution_count": 21,
   "metadata": {},
   "outputs": [],
   "source": [
    "class BinaryNoiseClassification(nn.Module):\n",
    "    \"\"\"\n",
    "    Model definition.\n",
    "    Layers summary:\n",
    "        There are 5 stages:\n",
    "            1-3 stages consist of 2 Conv1d layers with ReLU -> MaxPool -> BatchNorm.\n",
    "            4th stage consists of 2 Conv1d layers with ReLU -> BatchNorm -> GlobalMaxPool\n",
    "            5th stage consists of 2 Fully-connected layers\n",
    "    \"\"\"\n",
    "    def __init__(self):\n",
    "        super(BinaryNoiseClassification, self).__init__()\n",
    "        #VGG like architecture\n",
    "        self.Conv1_1 = nn.Conv1d(in_channels=80, out_channels=64, kernel_size=3, padding=1)\n",
    "        self.Conv1_2 = nn.Conv1d(in_channels=64, out_channels=64, kernel_size=3, padding=1)\n",
    "        self.MaxPool1 = nn.MaxPool1d(kernel_size=2, stride=2)\n",
    "        self.BatchNorm1 = nn.BatchNorm1d(64)\n",
    "        \n",
    "        self.Conv2_1 = nn.Conv1d(in_channels=64, out_channels=128, kernel_size=3, padding=1)\n",
    "        self.Conv2_2 = nn.Conv1d(in_channels=128, out_channels=128, kernel_size=3, padding=1)\n",
    "        self.MaxPool2 = nn.MaxPool1d(kernel_size=2, stride=2)\n",
    "        self.BatchNorm2 = nn.BatchNorm1d(128)\n",
    "        \n",
    "        self.Conv3_1 = nn.Conv1d(in_channels=128, out_channels=256, kernel_size=3, padding=1)\n",
    "        self.Conv3_2 = nn.Conv1d(in_channels=256, out_channels=256, kernel_size=3, padding=1)\n",
    "        self.MaxPool3 = nn.MaxPool1d(kernel_size=2, stride=2)\n",
    "        self.BatchNorm3 = nn.BatchNorm1d(256)\n",
    "        \n",
    "        self.Conv4_1 = nn.Conv1d(in_channels=256, out_channels=512, kernel_size=3, padding=1)\n",
    "        self.Conv4_2 = nn.Conv1d(in_channels=512, out_channels=512, kernel_size=3, padding=1)\n",
    "        self.BatchNorm4 = nn.BatchNorm1d(512)\n",
    "        self.GloMaxPool1 = nn.AdaptiveMaxPool1d(output_size=1)\n",
    "        \n",
    "        self.Linear1 = nn.Linear(in_features=512, out_features=10)\n",
    "        self.Linear2 = nn.Linear(in_features=10, out_features=1)\n",
    "        \n",
    "    def forward(self, inputs):\n",
    "        #1st stage\n",
    "        x = F.relu(self.Conv1_1(inputs))\n",
    "        x = self.MaxPool1(F.relu(self.Conv1_2(x)))\n",
    "        x = self.BatchNorm1(x)\n",
    "        #2nd stage\n",
    "        x = F.relu(self.Conv2_1(x))\n",
    "        x = self.MaxPool2(F.relu(self.Conv2_2(x)))\n",
    "        x = self.BatchNorm2(x)\n",
    "        #3rd stage\n",
    "        x = F.relu(self.Conv3_1(x))\n",
    "        x = self.MaxPool3(F.relu(self.Conv3_2(x)))\n",
    "        x = self.BatchNorm3(x)\n",
    "        #4th stage\n",
    "        x = F.relu(self.Conv4_1(x))\n",
    "        x = self.GloMaxPool1(F.relu(self.Conv4_2(x)))\n",
    "        x = self.BatchNorm4(x)\n",
    "        #full conv stage\n",
    "        x = torch.flatten(x, start_dim=1)\n",
    "        x = F.relu(self.Linear1(x))\n",
    "        x = self.Linear2(x)\n",
    "        \n",
    "        return x"
   ]
  },
  {
   "cell_type": "code",
   "execution_count": 22,
   "metadata": {
    "scrolled": true
   },
   "outputs": [
    {
     "name": "stdout",
     "output_type": "stream",
     "text": [
      "BinaryNoiseClassification(\n",
      "  (Conv1_1): Conv1d(80, 64, kernel_size=(3,), stride=(1,), padding=(1,))\n",
      "  (Conv1_2): Conv1d(64, 64, kernel_size=(3,), stride=(1,), padding=(1,))\n",
      "  (MaxPool1): MaxPool1d(kernel_size=2, stride=2, padding=0, dilation=1, ceil_mode=False)\n",
      "  (BatchNorm1): BatchNorm1d(64, eps=1e-05, momentum=0.1, affine=True, track_running_stats=True)\n",
      "  (Conv2_1): Conv1d(64, 128, kernel_size=(3,), stride=(1,), padding=(1,))\n",
      "  (Conv2_2): Conv1d(128, 128, kernel_size=(3,), stride=(1,), padding=(1,))\n",
      "  (MaxPool2): MaxPool1d(kernel_size=2, stride=2, padding=0, dilation=1, ceil_mode=False)\n",
      "  (BatchNorm2): BatchNorm1d(128, eps=1e-05, momentum=0.1, affine=True, track_running_stats=True)\n",
      "  (Conv3_1): Conv1d(128, 256, kernel_size=(3,), stride=(1,), padding=(1,))\n",
      "  (Conv3_2): Conv1d(256, 256, kernel_size=(3,), stride=(1,), padding=(1,))\n",
      "  (MaxPool3): MaxPool1d(kernel_size=2, stride=2, padding=0, dilation=1, ceil_mode=False)\n",
      "  (BatchNorm3): BatchNorm1d(256, eps=1e-05, momentum=0.1, affine=True, track_running_stats=True)\n",
      "  (Conv4_1): Conv1d(256, 512, kernel_size=(3,), stride=(1,), padding=(1,))\n",
      "  (Conv4_2): Conv1d(512, 512, kernel_size=(3,), stride=(1,), padding=(1,))\n",
      "  (BatchNorm4): BatchNorm1d(512, eps=1e-05, momentum=0.1, affine=True, track_running_stats=True)\n",
      "  (GloMaxPool1): AdaptiveMaxPool1d(output_size=1)\n",
      "  (Linear1): Linear(in_features=512, out_features=10, bias=True)\n",
      "  (Linear2): Linear(in_features=10, out_features=1, bias=True)\n",
      ")\n"
     ]
    }
   ],
   "source": [
    "model = BinaryNoiseClassification()\n",
    "model.to(device)\n",
    "print(model)"
   ]
  },
  {
   "cell_type": "markdown",
   "metadata": {},
   "source": [
    "### Auxiliary functions for training epoch and evaluating:"
   ]
  },
  {
   "cell_type": "code",
   "execution_count": 23,
   "metadata": {},
   "outputs": [],
   "source": [
    "def Train(model, dataloader, device, epoch, learning_rate):\n",
    "    \"\"\"\n",
    "    Computes 1 train epoch.\n",
    "    Input: \n",
    "        model - training model, \n",
    "        dataloader - DataLoader with train data,\n",
    "        device - chosen device,\n",
    "        epoch - current epoch number\n",
    "        learning_rate - learning rate for optimizer\n",
    "    \"\"\"\n",
    "    model.train()\n",
    "    criterion = nn.BCEWithLogitsLoss(reduction='sum')\n",
    "    optimizer = optim.Adam(model.parameters(), lr=learning_rate)\n",
    "    running_loss = 0.0\n",
    "    handled_samples = 0\n",
    "    handled_samples_report_period = 4000\n",
    "    next_report = handled_samples_report_period\n",
    "    \n",
    "    print(\"Train dataset statistics: \")\n",
    "    for batch_number, data in enumerate(dataloader):\n",
    "        samples, labels = data[0], data[1].unsqueeze_(1)\n",
    "        samples, labels = samples.to(device) , labels.to(device)\n",
    "        epoch_loss = 0\n",
    "        epoch_acc = 0\n",
    "        \n",
    "        # forward + backward + optimize\n",
    "        model.zero_grad()\n",
    "        outputs = model(samples)\n",
    "        loss = criterion(outputs, labels)\n",
    "        loss.backward()\n",
    "        optimizer.step()\n",
    "\n",
    "        # print statistics\n",
    "        running_loss += loss.item()\n",
    "        \n",
    "        handled_samples += labels.shape[0]\n",
    "        if handled_samples >= next_report:\n",
    "            print(f'epoch = {epoch:4}, handled samples = {handled_samples:5}, '\n",
    "                  f'loss = {running_loss/handled_samples:5.3}')\n",
    "            next_report += handled_samples_report_period\n",
    "    \n",
    "    torch.save(model.state_dict(), f'classifier_epoch{epoch}.pth')\n",
    "    return running_loss/handled_samples"
   ]
  },
  {
   "cell_type": "code",
   "execution_count": 24,
   "metadata": {},
   "outputs": [],
   "source": [
    "def Evaluate(model, dataloader, device):\n",
    "    \"\"\"\n",
    "    Computes output for data in dataloader and returns loss and accuracy.\n",
    "    Input: \n",
    "        model - trained model, \n",
    "        dataloader - DataLoader with evaluating data,\n",
    "        device - chosen device\n",
    "    \"\"\"\n",
    "    model.eval()\n",
    "    criterion = nn.BCEWithLogitsLoss()\n",
    "    predictions = None\n",
    "    targets = None\n",
    "    for batch_number, data in enumerate(dataloader):\n",
    "        samples, labels = data[0], data[1].unsqueeze_(1)\n",
    "        samples, labels = samples.to(device) , labels.to(device)\n",
    "\n",
    "        if predictions is None:\n",
    "            predictions = model(samples).cpu().detach().numpy()\n",
    "            targets = labels.cpu().detach().numpy()\n",
    "        else:        \n",
    "            predictions = np.concatenate((predictions, model(samples).cpu().detach().numpy()), axis=0)\n",
    "            targets = np.concatenate((targets, labels.cpu().detach().numpy()), axis=0)\n",
    "    \n",
    "    accuracy = binary_acc(predictions, targets)\n",
    "    loss = criterion(torch.tensor(predictions), torch.tensor(targets)).item()\n",
    "    print(f\"\\nEval dataset statistics: \"\n",
    "          f\"eval_loss = {loss:5.3}, eval_accuracy = {accuracy:5.3}%\\n\")\n",
    "    \n",
    "    return loss, accuracy\n",
    "\n",
    "def binary_acc(y_pred, y_test):\n",
    "    \"\"\"\n",
    "    Calculates objective metric: Accuracy\n",
    "    Input: \n",
    "        y_pred - model predictions, \n",
    "        y_test - ground truth\n",
    "    \"\"\"\n",
    "    y_test, y_pred = torch.from_numpy(y_test).float(), torch.from_numpy(y_pred).float()\n",
    "    y_pred_tag = torch.round(torch.sigmoid(y_pred))\n",
    "\n",
    "    correct_results_sum = (y_pred_tag == y_test).sum().float().item()\n",
    "    acc = correct_results_sum/y_test.shape[0]\n",
    "    acc = np.round(acc*100, 2)\n",
    "    \n",
    "    return acc"
   ]
  },
  {
   "cell_type": "markdown",
   "metadata": {},
   "source": [
    "# Training classifier:"
   ]
  },
  {
   "cell_type": "code",
   "execution_count": 25,
   "metadata": {
    "scrolled": false
   },
   "outputs": [
    {
     "name": "stdout",
     "output_type": "stream",
     "text": [
      "Train dataset statistics: \n",
      "epoch =    1, handled samples =  4032, loss = 0.251\n",
      "epoch =    1, handled samples =  8000, loss = 0.222\n",
      "epoch =    1, handled samples = 12032, loss = 0.207\n",
      "epoch =    1, handled samples = 16000, loss = 0.201\n",
      "epoch =    1, handled samples = 20032, loss = 0.196\n",
      "\n",
      "Eval dataset statistics: eval_loss = 0.171, eval_accuracy =  94.0%\n",
      "\n",
      "Train dataset statistics: \n",
      "epoch =    2, handled samples =  4032, loss = 0.184\n",
      "epoch =    2, handled samples =  8000, loss = 0.175\n",
      "epoch =    2, handled samples = 12032, loss =  0.17\n",
      "epoch =    2, handled samples = 16000, loss = 0.168\n",
      "epoch =    2, handled samples = 20032, loss = 0.161\n",
      "\n",
      "Eval dataset statistics: eval_loss =  0.17, eval_accuracy =  93.7%\n",
      "\n",
      "Train dataset statistics: \n",
      "epoch =    3, handled samples =  4032, loss = 0.151\n",
      "epoch =    3, handled samples =  8000, loss = 0.148\n",
      "epoch =    3, handled samples = 12032, loss = 0.144\n",
      "epoch =    3, handled samples = 16000, loss = 0.141\n",
      "epoch =    3, handled samples = 20032, loss = 0.143\n",
      "\n",
      "Eval dataset statistics: eval_loss = 0.159, eval_accuracy =  95.0%\n",
      "\n",
      "Train dataset statistics: \n",
      "epoch =    4, handled samples =  4032, loss = 0.135\n",
      "epoch =    4, handled samples =  8000, loss = 0.132\n",
      "epoch =    4, handled samples = 12032, loss = 0.132\n",
      "epoch =    4, handled samples = 16000, loss = 0.128\n",
      "epoch =    4, handled samples = 20032, loss = 0.128\n",
      "\n",
      "Eval dataset statistics: eval_loss = 0.117, eval_accuracy =  95.9%\n",
      "\n",
      "Train dataset statistics: \n",
      "epoch =    5, handled samples =  4032, loss = 0.119\n",
      "epoch =    5, handled samples =  8000, loss = 0.126\n",
      "epoch =    5, handled samples = 12032, loss = 0.125\n",
      "epoch =    5, handled samples = 16000, loss = 0.119\n",
      "epoch =    5, handled samples = 20032, loss =  0.12\n",
      "\n",
      "Eval dataset statistics: eval_loss = 0.105, eval_accuracy =  96.1%\n",
      "\n",
      "Train dataset statistics: \n",
      "epoch =    6, handled samples =  4032, loss = 0.128\n",
      "epoch =    6, handled samples =  8000, loss = 0.123\n",
      "epoch =    6, handled samples = 12032, loss = 0.114\n",
      "epoch =    6, handled samples = 16000, loss = 0.115\n",
      "epoch =    6, handled samples = 20032, loss = 0.116\n",
      "\n",
      "Eval dataset statistics: eval_loss = 0.104, eval_accuracy =  96.6%\n",
      "\n",
      "Train dataset statistics: \n",
      "epoch =    7, handled samples =  4032, loss = 0.102\n",
      "epoch =    7, handled samples =  8000, loss = 0.105\n",
      "epoch =    7, handled samples = 12032, loss = 0.0997\n",
      "epoch =    7, handled samples = 16000, loss = 0.106\n",
      "epoch =    7, handled samples = 20032, loss = 0.107\n",
      "\n",
      "Eval dataset statistics: eval_loss = 0.144, eval_accuracy =  95.0%\n",
      "\n",
      "Train dataset statistics: \n",
      "epoch =    8, handled samples =  4032, loss = 0.101\n",
      "epoch =    8, handled samples =  8000, loss = 0.103\n",
      "epoch =    8, handled samples = 12032, loss = 0.102\n",
      "epoch =    8, handled samples = 16000, loss = 0.105\n",
      "epoch =    8, handled samples = 20032, loss = 0.106\n",
      "\n",
      "Eval dataset statistics: eval_loss = 0.103, eval_accuracy =  96.1%\n",
      "\n",
      "Train dataset statistics: \n",
      "epoch =    9, handled samples =  4032, loss = 0.0962\n",
      "epoch =    9, handled samples =  8000, loss = 0.096\n",
      "epoch =    9, handled samples = 12032, loss = 0.0929\n",
      "epoch =    9, handled samples = 16000, loss = 0.0932\n",
      "epoch =    9, handled samples = 20032, loss = 0.0944\n",
      "\n",
      "Eval dataset statistics: eval_loss = 0.0886, eval_accuracy =  96.8%\n",
      "\n",
      "Train dataset statistics: \n",
      "epoch =   10, handled samples =  4032, loss = 0.0935\n",
      "epoch =   10, handled samples =  8000, loss = 0.0924\n",
      "epoch =   10, handled samples = 12032, loss = 0.097\n",
      "epoch =   10, handled samples = 16000, loss = 0.0963\n",
      "epoch =   10, handled samples = 20032, loss = 0.0963\n",
      "\n",
      "Eval dataset statistics: eval_loss = 0.0972, eval_accuracy =  96.6%\n",
      "\n",
      "Train dataset statistics: \n",
      "epoch =   11, handled samples =  4032, loss = 0.098\n",
      "epoch =   11, handled samples =  8000, loss = 0.0927\n",
      "epoch =   11, handled samples = 12032, loss = 0.0905\n",
      "epoch =   11, handled samples = 16000, loss = 0.0902\n",
      "epoch =   11, handled samples = 20032, loss = 0.0893\n",
      "\n",
      "Eval dataset statistics: eval_loss = 0.0948, eval_accuracy =  97.0%\n",
      "\n",
      "Train dataset statistics: \n",
      "epoch =   12, handled samples =  4032, loss = 0.0866\n",
      "epoch =   12, handled samples =  8000, loss = 0.0893\n",
      "epoch =   12, handled samples = 12032, loss = 0.0892\n",
      "epoch =   12, handled samples = 16000, loss = 0.0869\n",
      "epoch =   12, handled samples = 20032, loss = 0.0874\n",
      "\n",
      "Eval dataset statistics: eval_loss = 0.126, eval_accuracy =  94.9%\n",
      "\n",
      "Train dataset statistics: \n",
      "epoch =   13, handled samples =  4032, loss = 0.0805\n",
      "epoch =   13, handled samples =  8000, loss = 0.0916\n",
      "epoch =   13, handled samples = 12032, loss = 0.0884\n",
      "epoch =   13, handled samples = 16000, loss = 0.0881\n",
      "epoch =   13, handled samples = 20032, loss = 0.0858\n",
      "\n",
      "Eval dataset statistics: eval_loss = 0.101, eval_accuracy =  96.5%\n",
      "\n",
      "Train dataset statistics: \n",
      "epoch =   14, handled samples =  4032, loss = 0.0768\n",
      "epoch =   14, handled samples =  8000, loss = 0.0784\n",
      "epoch =   14, handled samples = 12032, loss = 0.0807\n",
      "epoch =   14, handled samples = 16000, loss = 0.082\n",
      "epoch =   14, handled samples = 20032, loss = 0.0857\n",
      "\n",
      "Eval dataset statistics: eval_loss = 0.0706, eval_accuracy =  97.5%\n",
      "\n",
      "Train dataset statistics: \n",
      "epoch =   15, handled samples =  4032, loss = 0.0812\n",
      "epoch =   15, handled samples =  8000, loss = 0.0798\n",
      "epoch =   15, handled samples = 12032, loss = 0.0787\n",
      "epoch =   15, handled samples = 16000, loss = 0.0808\n",
      "epoch =   15, handled samples = 20032, loss = 0.0781\n",
      "\n",
      "Eval dataset statistics: eval_loss = 0.0655, eval_accuracy =  97.8%\n",
      "\n",
      "Train dataset statistics: \n",
      "epoch =   16, handled samples =  4032, loss = 0.0854\n",
      "epoch =   16, handled samples =  8000, loss = 0.0817\n",
      "epoch =   16, handled samples = 12032, loss = 0.0787\n",
      "epoch =   16, handled samples = 16000, loss = 0.0781\n",
      "epoch =   16, handled samples = 20032, loss = 0.0793\n",
      "\n",
      "Eval dataset statistics: eval_loss = 0.0704, eval_accuracy =  97.5%\n",
      "\n",
      "Train dataset statistics: \n",
      "epoch =   17, handled samples =  4032, loss = 0.0794\n",
      "epoch =   17, handled samples =  8000, loss = 0.0819\n",
      "epoch =   17, handled samples = 12032, loss = 0.0834\n",
      "epoch =   17, handled samples = 16000, loss = 0.078\n",
      "epoch =   17, handled samples = 20032, loss = 0.0792\n",
      "\n",
      "Eval dataset statistics: eval_loss = 0.0739, eval_accuracy =  97.5%\n",
      "\n",
      "Train dataset statistics: \n",
      "epoch =   18, handled samples =  4032, loss = 0.0768\n",
      "epoch =   18, handled samples =  8000, loss = 0.074\n",
      "epoch =   18, handled samples = 12032, loss = 0.0731\n",
      "epoch =   18, handled samples = 16000, loss = 0.0746\n",
      "epoch =   18, handled samples = 20032, loss = 0.0762\n",
      "\n",
      "Eval dataset statistics: eval_loss = 0.082, eval_accuracy =  97.5%\n",
      "\n",
      "Model stops improving on dev dataset!\n",
      "It is early stopping!\n",
      "Best model is saved as 'classifier_epoch15.pth'\n"
     ]
    }
   ],
   "source": [
    "cur_learning_rate = learning_rate\n",
    "best_model_epoch = 0\n",
    "no_improve_epochs = 0\n",
    "no_improve_epochs_to_stop = 3\n",
    "best_dev_acuracy = 0.0\n",
    "\n",
    "train_losses = []\n",
    "dev_losses = []\n",
    "dev_accuracies = []\n",
    "\n",
    "for epoch in range(1, nEpochs+1):\n",
    "    train_loss = Train(model, train_dataloader, device, epoch, cur_learning_rate)\n",
    "    dev_loss, dev_accuracy = Evaluate(model, dev_dataloader, device)\n",
    "    train_losses.append(train_loss)\n",
    "    dev_losses.append(dev_loss)\n",
    "    dev_accuracies.append(dev_accuracy)\n",
    "    \n",
    "    if dev_accuracy > best_dev_acuracy:\n",
    "        best_dev_acuracy = dev_accuracy\n",
    "        best_model_epoch = epoch\n",
    "        no_improve_epochs = 0\n",
    "    else:\n",
    "        no_improve_epochs += 1\n",
    "        if no_improve_epochs == no_improve_epochs_to_stop:\n",
    "            print(f'Model stops improving on dev dataset!\\n'\n",
    "                  f'It is early stopping!\\n'\n",
    "                  f\"Best model is saved as 'classifier_epoch{best_model_epoch}.pth'\")\n",
    "            break"
   ]
  },
  {
   "cell_type": "markdown",
   "metadata": {},
   "source": [
    "# Classifier evaluation\n",
    "Loading best trained model and compute its loss and accuracy"
   ]
  },
  {
   "cell_type": "code",
   "execution_count": 31,
   "metadata": {},
   "outputs": [],
   "source": [
    "loaded_classification_model = BinaryNoiseClassification()\n",
    "model_state_dict = torch.load(f'classifier_epoch{best_model_epoch}.pth')\n",
    "loaded_classification_model.load_state_dict(model_state_dict)\n",
    "loaded_classification_model.to(device);"
   ]
  },
  {
   "cell_type": "code",
   "execution_count": 32,
   "metadata": {},
   "outputs": [],
   "source": [
    "val_dataloader = get_DataLoader(val_clean_data, val_noisy_data, batch_size=1)"
   ]
  },
  {
   "cell_type": "code",
   "execution_count": 33,
   "metadata": {
    "scrolled": true
   },
   "outputs": [
    {
     "name": "stdout",
     "output_type": "stream",
     "text": [
      "\n",
      "Eval dataset statistics: eval_loss = 0.0544, eval_accuracy =  98.3%\n",
      "\n"
     ]
    }
   ],
   "source": [
    "val_loss, val_accuracy = Evaluate(loaded_classification_model, val_dataloader, device)"
   ]
  }
 ],
 "metadata": {
  "kernelspec": {
   "display_name": "Python 3",
   "language": "python",
   "name": "python3"
  },
  "language_info": {
   "codemirror_mode": {
    "name": "ipython",
    "version": 3
   },
   "file_extension": ".py",
   "mimetype": "text/x-python",
   "name": "python",
   "nbconvert_exporter": "python",
   "pygments_lexer": "ipython3",
   "version": "3.8.5"
  }
 },
 "nbformat": 4,
 "nbformat_minor": 4
}
